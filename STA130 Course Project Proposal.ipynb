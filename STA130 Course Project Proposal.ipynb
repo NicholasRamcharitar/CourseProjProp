{
 "cells": [
  {
   "cell_type": "markdown",
   "id": "fbeadbb1",
   "metadata": {},
   "source": [
    "# STA130 COURSE PROJECT PROPOSAL\n",
    "by Nicholas Ramcharitar\n",
    "***"
   ]
  },
  {
   "cell_type": "markdown",
   "id": "1a487580",
   "metadata": {},
   "source": [
    "**Research Question:**\n",
    "   \n",
    "   The research question is to investigate **how (or if) wellness changed during the midst of the pandemic vs post pandemic for all Canadians.** Also how a change in doing different activties affected their wellness and also to see how different subgroups are affected. For the purpose of this data analysis, 2021 will be considered during the pandemic and 2023 post. During this data analysis I plan to talk discuss the population parameter mean. \n",
    " \n",
    "  \n",
    "\n",
    "*****\n",
    "\n",
    "**Variables**\n",
    "\n",
    "   The variables I will look at will be; WELLNESS_life_satisfaction(A Wellness Score(discrete numerical)), CONNECTION_activities_onlinegames_p3m(Categorical Ordinal), CONNECTION_activities_church_p3m(Categorical Ordinal), CONNECTION_activities_walk_p3m(Categorical Ordinal). I will also narrow this data down by different categorical variables such as: GEO_province, DEMO_gender, DEMO_identity_vetrans which are all categorical nominal and categorical binary. As mentioned before, I will be studying the population parameter mean of the wellness scores. I plan to generate a normal distrubution for 2021 and 2023 data of the wellness scores to generate a 'population.' For the categorical variables I would segregate the data for the categorical variables based on the subgroups mentioned above and discuss them if any noticeable changes in Bar Plots generated for differences in 2021 and 2023.\n",
    "   \n",
    "******\n",
    "\n",
    "**Analysis**\n",
    "\n",
    "\n",
    "   As mentioned previously my analysis will invlove Bar Plots and Normal Distributions. Given the variables mentioned above. First I would generate a Null Hypothesis. Then I would like to bootstrap the wellness scores to generate a population for 2021 and 2023 and judge the changes between their popualtion parameter, mean. I would also like to use these to see if it is expected to be well post pandemic and unwell during it. I would do this by creating a 95% condfidence interval and checking if certain values fall in that range or not. I will then also bootstrap to create population's again, this time differntiating if playing online games or church was 'regular' or not. Given Canada's Diversity, I understand there are many different subgroups being represented by these, so I will use barplots to highlight noticable changes in church attendance, online game usage, and wellness score if a group has a sharp change in any. \n",
    "   These will all be done given the assumptions that there sampling bias was miminized effciently. Also that the the sample size is sufficent to represent Canada.\n",
    "\n",
    "******\n",
    "\n",
    "**Hypothesis Testing**\n",
    "\n",
    "   In this research study, I have to Null Hypotheses; 1. That People before the pandemic have have a lower wellness score than after. These results would be directly relevant to changes in mental health for this data. It  would make sense that we should start to see a decrease in online games and an increase in church going as time has passed from the pandemic because more Outdoor activties would be happening and less indoor activities. As typically church brings people a sense of community and closer to God through fellowship. And online games can be rage inducing and make people feel less of themselves after playing for extended periods of time. It would be reasonable to assume that post pandemic, wellness scores should be up."
   ]
  },
  {
   "cell_type": "markdown",
   "id": "8ad0fa81",
   "metadata": {},
   "source": []
  },
  {
   "cell_type": "code",
   "execution_count": null,
   "id": "984fa41c",
   "metadata": {},
   "outputs": [],
   "source": []
  }
 ],
 "metadata": {
  "kernelspec": {
   "display_name": "Python 3 (ipykernel)",
   "language": "python",
   "name": "python3"
  },
  "language_info": {
   "codemirror_mode": {
    "name": "ipython",
    "version": 3
   },
   "file_extension": ".py",
   "mimetype": "text/x-python",
   "name": "python",
   "nbconvert_exporter": "python",
   "pygments_lexer": "ipython3",
   "version": "3.11.6"
  }
 },
 "nbformat": 4,
 "nbformat_minor": 5
}
